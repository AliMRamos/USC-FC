{
 "cells": [
  {
   "cell_type": "markdown",
   "metadata": {
    "slideshow": {
     "slide_type": "slide"
    }
   },
   "source": [
    "# Computational Physics \n",
    "\n",
    "\n",
    "## More about Python : Functions and Classes\n",
    "\n",
    "\n",
    "### Index\n",
    "\n",
    "\n",
    "J. Á. Hernando Morata, in collaboration with G. Martínez-Lema, M. Kekic. \n",
    "\n",
    "*Departamento de Física de Partículas. Universidade de Santiago de Compostela*\n",
    "\n",
    "October 2020"
   ]
  },
  {
   "cell_type": "code",
   "execution_count": 2,
   "metadata": {
    "slideshow": {
     "slide_type": "fragment"
    }
   },
   "outputs": [
    {
     "name": "stdout",
     "output_type": "stream",
     "text": [
      "Last revision  Wed Oct 21 16:42:27 2020\n"
     ]
    }
   ],
   "source": [
    "import time\n",
    "print('Last revision ', time.asctime())"
   ]
  },
  {
   "cell_type": "markdown",
   "metadata": {
    "slideshow": {
     "slide_type": "slide"
    }
   },
   "source": [
    "### What you must know\n",
    "\n",
    "\n",
    "* The basic of Python code. [Python](https://www.python.org)\n",
    "\n",
    "\n",
    "* Editing an executing a Python module.\n",
    "\n",
    "    * Some editors: [atom](https://atom.io), [spyder](https://www.spyder-ide.org) or [emacs](https://www.gnu.org/software/emacs/).\n",
    "\n",
    "\n",
    "* Work in Anacoda environment. [Anaconda](https://www.anaconda.com)\n",
    "\n",
    "\n",
    "* Know about [Jupyter Notebooks](https:jupyter.org)\n",
    "\n",
    "\n",
    "* Preferable to know [numpy](http://www.numpy.org ), [pandas](http://pandas.pydata.org) and [matplot](http://matplotlib.org) modules to do data analysis.\n",
    "\n"
   ]
  },
  {
   "cell_type": "markdown",
   "metadata": {
    "slideshow": {
     "slide_type": "slide"
    }
   },
   "source": [
    "### Materials of this course\n",
    "\n",
    "* Materials are Jupyter Notebooks (NB).\n",
    "\n",
    "\n",
    "* The NBs are at this [GitHub](https://github.com) repository [jahernando/USC-FC](https://github.com/jahernando/USC-FC)\n",
    "\n",
    "\n",
    "    * This is the [index](https://github.com/jahernando/USC-FC/blob/main/index.ipynb) of the course.\n",
    "\n"
   ]
  },
  {
   "cell_type": "markdown",
   "metadata": {
    "slideshow": {
     "slide_type": "slide"
    }
   },
   "source": [
    "### You can get a local copy of the repository:\n",
    "\n",
    "Either:\n",
    "\n",
    "   * If you have a GitHub accout, *fork* the repository to your own accout and clone it to your local directory.\n",
    "    \n",
    "   * or under *Code* tab, download zip it.\n",
    "    \n",
    "   * or under *Code*, clone the repository your local directory: _> git clone https://github.com/jahernando/USC-FC.git_\n",
    "  "
   ]
  },
  {
   "cell_type": "markdown",
   "metadata": {},
   "source": [
    "### You can remotely execute the NBs\n",
    "\n",
    "   * click here [![Binder](https://mybinder.org/badge_logo.svg)](https://mybinder.org/v2/gh/jahernando/USC-FC/main) or at the binder icon at end of the [respository](https://github.com/jahernando/USC-FC) main page.\n",
    "   \n",
    "    \n",
    "   * if you have a Google account, open the NBs with [Google Colab](https://colab.research.google.com) and open the [repository](https://github.com/jahernando/USC-FC).\n",
    "   "
   ]
  },
  {
   "cell_type": "markdown",
   "metadata": {
    "slideshow": {
     "slide_type": "slide"
    }
   },
   "source": [
    "----\n",
    "## 1. Introduction\n",
    "\n",
    "### 1.1 Objective\n",
    "\n",
    "This is a \"high\" level python course. \"You know the basics, now it comes the real thing\". The course covers some topics on **classes, object oriented (OO); functions, and functional programming (FP)**. It also provides some guidelines on how to use the coding paradimgs to sove your computational problems. \n",
    "\n",
    "These OO and FP paradigms are not python exclusive. You can use them with C++, Java, and other programming lenguages. But Python has the adventage of combining both in a non intrusive, non partisan way.\n",
    "\n"
   ]
  },
  {
   "cell_type": "code",
   "execution_count": null,
   "metadata": {},
   "outputs": [],
   "source": []
  },
  {
   "cell_type": "markdown",
   "metadata": {
    "slideshow": {
     "slide_type": "fragment"
    }
   },
   "source": [
    "But before we discuss classes and functions. Let's revisit some basic Python issues that are not about systax but about philosophy, good maners and environment.\n",
    "\n"
   ]
  },
  {
   "cell_type": "markdown",
   "metadata": {
    "slideshow": {
     "slide_type": "slide"
    }
   },
   "source": [
    "Disclaimers: \n",
    "\n",
    "  1. I am not a programmer. I am just a physicist that uses programming as a tool to do Physics! \n",
    "  2. I am not an expert. I am just an apprentice!\n",
    "  \n",
    "The documentation in the oficial [Python Web Pages](https://www.python.org/doc/) are almost *perfect*."
   ]
  },
  {
   "cell_type": "markdown",
   "metadata": {
    "slideshow": {
     "slide_type": "slide"
    }
   },
   "source": [
    "### 1.2 Philosophy \n",
    "\n",
    "[>] See first (https://github.com/next-exp) and discuss:\n",
    "\n",
    "When writting code, *be zen*:\n",
    "    \n",
    "  1. Beautiful is better than ugly.\n",
    "  2. Keep it simple. Simple is better than complex!\n",
    "  3. Readabily counts! \n",
    "  4. Comment your code. Otherwise only Good will know about your code...\n",
    "  5. Flat is better than nexted. Do not write spaghetti code!\n",
    "  6. Code must be modular. Big things are made from small parts. Reuse the code!\n",
    "  7. If the implementation is hard to explain, it's a bad idea. If it is simple to explain, maybe it's a good idea!\n",
    "  8. Do not overimplement. Code as you need!\n",
    "  9. If a pattern repeats, an abstraction is behind, exploit it!\n",
    "  10. Think before write!"
   ]
  },
  {
   "cell_type": "markdown",
   "metadata": {
    "slideshow": {
     "slide_type": "slide"
    }
   },
   "source": [
    "### 1.3 Good manners\n",
    "\n",
    "A \"good\" coding style for Python is defined in pep8 (https://www.python.org/dev/peps/pep-0008/)Let's see some rules:\n",
    "\n",
    "  1. Keep line length below 79 characters.\n",
    "  2. Prefer spaces to tabs.\n",
    "  3. Separate functions and methods with blank lines.\n",
    "  4. Imports are on the top of the module. One per module. Explicitely import the module (do not use \"import * \"!)\n",
    "  5. Use whitespace after commas, to do more readable expression with operations and comparisons.\n",
    "  6. Write meaningful comments in english!\n",
    "  7. A naming convention: classes names start with upercase, functions are in lowercase.\n",
    "  8. Use meaningful names for the variables and functions. Use underscore '_' to separete words in functions or variables. Modules should have instead short names.\n",
    "  9. Use underscores to indicate variables and functions for private use.\n",
    "  10. Raise and catch exceptions (no error should pass unnoticed!)\n"
   ]
  },
  {
   "cell_type": "markdown",
   "metadata": {
    "slideshow": {
     "slide_type": "slide"
    }
   },
   "source": [
    "### 1.4 Environment\n",
    "\n",
    "The coding enviroment is the collection of tools, editors, and external modules that you can use in developping your code.\n",
    "\n",
    "In HEP is hard to scape from the influence of ROOT (https://root.cern.ch ). While ROOT is a great tool-box it is not user friendly (except for some subpackages such as RooFit and TMVA).\n",
    "\n",
    "This is my preferred enviroment:\n",
    "\n",
    "  1. Anaconda python distribution, Python 3.7 (https://www.continuum.io/downloads ). \n",
    "  2. Use Jupyter notebooks (http://jupyter.org ) to develop and document code. Complement with Atom (https://atom.io ), spider (https://www.spyder-ide.org) or emacs (https://www.gnu.org/software/emacs/ ) editors. \n",
    "  3. Use scipy, a scientific library in Python, (https://www.scipy.organd ) and numpy (http://www.numpy.org ).\n",
    "  4. Use for data analysis and plotting pandas (http://pandas.pydata.org ) and matplotlib (http://matplotlib.org ).\n",
    "  5. Publish and share your code and collaborate with other developers using github (https://github.com ). \n",
    "    \n",
    "With the Anaconda distribution, one gets at one, Jupyter notebooks, scipy, numpy, pandas and matplotlib."
   ]
  },
  {
   "cell_type": "code",
   "execution_count": null,
   "metadata": {
    "collapsed": true
   },
   "outputs": [],
   "source": []
  }
 ],
 "metadata": {
  "anaconda-cloud": {},
  "celltoolbar": "Slideshow",
  "kernelspec": {
   "display_name": "Python 3",
   "language": "python",
   "name": "python3"
  },
  "language_info": {
   "codemirror_mode": {
    "name": "ipython",
    "version": 3
   },
   "file_extension": ".py",
   "mimetype": "text/x-python",
   "name": "python",
   "nbconvert_exporter": "python",
   "pygments_lexer": "ipython3",
   "version": "3.7.3"
  }
 },
 "nbformat": 4,
 "nbformat_minor": 2
}
