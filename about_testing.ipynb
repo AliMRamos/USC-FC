{
 "cells": [
  {
   "cell_type": "markdown",
   "metadata": {
    "slideshow": {
     "slide_type": "subslide"
    }
   },
   "source": [
    "# Python course on Classes and Functional Programming\n",
    "\n",
    "### *J.A. Hernando, USC, 2020*\n",
    "\n",
    "## about testing"
   ]
  },
  {
   "cell_type": "code",
   "execution_count": 1,
   "metadata": {
    "slideshow": {
     "slide_type": "fragment"
    }
   },
   "outputs": [
    {
     "name": "stdout",
     "output_type": "stream",
     "text": [
      " Last revision  Wed Oct 21 21:33:03 2020\n"
     ]
    }
   ],
   "source": [
    "import time\n",
    "print(' Last revision ', time.asctime())"
   ]
  },
  {
   "cell_type": "code",
   "execution_count": 2,
   "metadata": {
    "slideshow": {
     "slide_type": "slide"
    }
   },
   "outputs": [],
   "source": [
    "# general imports\n",
    "%matplotlib inline\n",
    "\n",
    "# the general imports\n",
    "import numpy as np\n",
    "import pandas as pd\n",
    "import matplotlib\n",
    "import matplotlib.pyplot as plt\n",
    "# possible styles: ggplot (simplicity), bmh (scientify data), \n",
    "matplotlib.style.use('ggplot')"
   ]
  },
  {
   "cell_type": "markdown",
   "metadata": {
    "slideshow": {
     "slide_type": "slide"
    }
   },
   "source": [
    "## 1. Testing a functions\n",
    "\n",
    "It is a good practice to write a set of tests that a functions does what is expected to do.\n",
    "\n",
    "For the *fib* function we can make a test function. \n",
    "\n",
    "Usually we define test functions as: *test_function*"
   ]
  },
  {
   "cell_type": "code",
   "execution_count": 3,
   "metadata": {
    "slideshow": {
     "slide_type": "slide"
    }
   },
   "outputs": [],
   "source": [
    "def fib(n):\n",
    "    \"\"\" returns a list with the first n numbers of the Fibonacci serie\n",
    "    \"\"\"\n",
    "    ns = [0, 1]\n",
    "    \n",
    "    for i in range(2, n):\n",
    "        ns.append(ns[i-2] + ns[i-1])\n",
    "    \n",
    "    return ns"
   ]
  },
  {
   "cell_type": "code",
   "execution_count": 4,
   "metadata": {
    "slideshow": {
     "slide_type": "slide"
    }
   },
   "outputs": [],
   "source": [
    "def test_fib(n):\n",
    "    \n",
    "    ns = fib(n)\n",
    "    \n",
    "    oks = [ns[i] == ns[i-1] + ns[i-2] for i in range(2, n)]\n",
    "    \n",
    "    assert all(oks)\n",
    "\n",
    "    return True"
   ]
  },
  {
   "cell_type": "code",
   "execution_count": 5,
   "metadata": {
    "slideshow": {
     "slide_type": "fragment"
    }
   },
   "outputs": [
    {
     "name": "stdout",
     "output_type": "stream",
     "text": [
      "[0, 1, 1, 2, 3, 5, 8, 13, 21, 34, 55, 89, 144, 233, 377, 610, 987, 1597, 2584, 4181]\n"
     ]
    },
    {
     "data": {
      "text/plain": [
       "True"
      ]
     },
     "execution_count": 5,
     "metadata": {},
     "output_type": "execute_result"
    }
   ],
   "source": [
    "n      = 20 \n",
    "values = fib(n)\n",
    "print(values)\n",
    "test_fib(n)"
   ]
  },
  {
   "cell_type": "markdown",
   "metadata": {
    "slideshow": {
     "slide_type": "slide"
    }
   },
   "source": [
    "### The importance of testing\n",
    "\n",
    "\n",
    "In reality a function is defined via its test.\n",
    "\n",
    "It is in general good prective to write the test of a function before implementing the function.\n",
    "\n",
    "for example, Which is the bi-valued function that muss pass the following tests?"
   ]
  },
  {
   "cell_type": "code",
   "execution_count": 6,
   "metadata": {
    "slideshow": {
     "slide_type": "fragment"
    }
   },
   "outputs": [],
   "source": [
    "def test_function(function, a, b):\n",
    "    \n",
    "    assert function(a, b) == function(b, a)\n",
    "    \n",
    "    assert function(a, function(a, b)) == function(b, function(a, a))\n",
    "    \n",
    "    assert function(a, 0) ==  a\n",
    "    \n",
    "    return"
   ]
  },
  {
   "cell_type": "code",
   "execution_count": 7,
   "metadata": {
    "slideshow": {
     "slide_type": "slide"
    }
   },
   "outputs": [
    {
     "name": "stdout",
     "output_type": "stream",
     "text": [
      "Ok\n"
     ]
    }
   ],
   "source": [
    "a, b     = 1+0j, 0+1j\n",
    "\n",
    "try:\n",
    "    test_function(complex.__add__, a, b)\n",
    "except:\n",
    "    print('test not passed')\n",
    "\n",
    "print('Ok')"
   ]
  },
  {
   "cell_type": "code",
   "execution_count": 8,
   "metadata": {
    "slideshow": {
     "slide_type": "slide"
    }
   },
   "outputs": [
    {
     "name": "stdout",
     "output_type": "stream",
     "text": [
      "test not passed\n"
     ]
    }
   ],
   "source": [
    "a, b     = 1+0j, 0+1j\n",
    "\n",
    "try:\n",
    "    test_function(complex.__mul__, a, b)\n",
    "except:\n",
    "    print('test not passed')"
   ]
  },
  {
   "cell_type": "code",
   "execution_count": 9,
   "metadata": {
    "slideshow": {
     "slide_type": "slide"
    }
   },
   "outputs": [
    {
     "name": "stdout",
     "output_type": "stream",
     "text": [
      "test not passed\n"
     ]
    }
   ],
   "source": [
    "a, b     = list(range(3)), list(range(3, 6))\n",
    "\n",
    "try:\n",
    "    test_function(list.__add__, a, b)\n",
    "except:\n",
    "    print('test not passed')"
   ]
  },
  {
   "cell_type": "code",
   "execution_count": 10,
   "metadata": {
    "slideshow": {
     "slide_type": "slide"
    }
   },
   "outputs": [],
   "source": [
    "def test_array_function(function, a, b):\n",
    "    \n",
    "    assert np.all(function(a, b) == function(b, a))\n",
    "    \n",
    "    assert np.all(function(a, function(a, b)) == function(b, function(a, a)))\n",
    "    \n",
    "    assert np.all(function(a, 0) ==  a)\n",
    "    \n",
    "    return"
   ]
  },
  {
   "cell_type": "code",
   "execution_count": 11,
   "metadata": {
    "slideshow": {
     "slide_type": "slide"
    }
   },
   "outputs": [
    {
     "name": "stdout",
     "output_type": "stream",
     "text": [
      "test not passed\n"
     ]
    }
   ],
   "source": [
    "a, b = np.array((1., 0)), np.array((0., 1.))\n",
    "\n",
    "test_array_function(np.add, a, b)\n",
    "\n",
    "try:\n",
    "    test_array_function(np.prod, a, b)\n",
    "except:\n",
    "    print('test not passed')"
   ]
  },
  {
   "cell_type": "code",
   "execution_count": 12,
   "metadata": {
    "slideshow": {
     "slide_type": "slide"
    }
   },
   "outputs": [
    {
     "name": "stdout",
     "output_type": "stream",
     "text": [
      "test not passed\n"
     ]
    }
   ],
   "source": [
    "a, b = (1., 0), (0., 1.)\n",
    "\n",
    "test_array_function(np.add, a, b)\n",
    "\n",
    "try:\n",
    "    test_array_function(np.prod, a, b)\n",
    "except:\n",
    "    print('test not passed')"
   ]
  }
 ],
 "metadata": {
  "anaconda-cloud": {},
  "celltoolbar": "Slideshow",
  "kernelspec": {
   "display_name": "Python 3",
   "language": "python",
   "name": "python3"
  },
  "language_info": {
   "codemirror_mode": {
    "name": "ipython",
    "version": 3
   },
   "file_extension": ".py",
   "mimetype": "text/x-python",
   "name": "python",
   "nbconvert_exporter": "python",
   "pygments_lexer": "ipython3",
   "version": "3.7.3"
  }
 },
 "nbformat": 4,
 "nbformat_minor": 1
}
